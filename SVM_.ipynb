{
  "nbformat": 4,
  "nbformat_minor": 0,
  "metadata": {
    "colab": {
      "name": "SVM .ipynb",
      "provenance": [],
      "collapsed_sections": []
    },
    "kernelspec": {
      "name": "python3",
      "display_name": "Python 3"
    },
    "accelerator": "GPU"
  },
  "cells": [
    {
      "cell_type": "markdown",
      "metadata": {
        "id": "yNXumbqn-nmY"
      },
      "source": [
        "Linear Discriminant Functions and Support Vector Machines on MNIST"
      ]
    },
    {
      "cell_type": "code",
      "metadata": {
        "id": "KFUaaOki_l5Z"
      },
      "source": [
        "import tensorflow as tf\n",
        "from sklearn.model_selection import train_test_split\n",
        "from sklearn.model_selection import GridSearchCV\n",
        "from sklearn.metrics import classification_report\n",
        "from sklearn.model_selection import cross_val_score\n",
        "from sklearn.preprocessing import MinMaxScaler\n",
        "from sklearn.svm import SVC\n",
        "import numpy as np"
      ],
      "execution_count": null,
      "outputs": []
    },
    {
      "cell_type": "code",
      "metadata": {
        "id": "_JXi4_0f_mq_"
      },
      "source": [
        "digits = tf.keras.datasets.mnist\n",
        "(x_train, y_train), (x_test, y_test) = digits.load_data()\n",
        "x_train = x_train.reshape(60000, 784)\n",
        "x_test = x_test.reshape(10000, 784)\n",
        "\n",
        "#x_train=x_train[:2000]\n",
        "#y_train=y_train[:2000]\n",
        "\n",
        "x_train = x_train.astype('float32')\n",
        "x_test = x_test.astype('float32')\n",
        "\n",
        "x_train /= 255\n",
        "x_test /= 255"
      ],
      "execution_count": null,
      "outputs": []
    },
    {
      "cell_type": "code",
      "metadata": {
        "id": "y0Qv4t82S9h0"
      },
      "source": [
        "scaling = MinMaxScaler(feature_range=(-1, 1)).fit(x_train)\n",
        "x_train = scaling.transform(x_train)\n",
        "x_test = scaling.transform(x_test)"
      ],
      "execution_count": null,
      "outputs": []
    },
    {
      "cell_type": "code",
      "metadata": {
        "id": "yuMgg5tlUBnV",
        "colab": {
          "base_uri": "https://localhost:8080/",
          "height": 34
        },
        "outputId": "e807b385-82a1-4a49-cbd6-c165d829eb8e"
      },
      "source": [
        "svm = SVC()\n",
        "cv_performance = cross_val_score(svm, x_train, y_train, cv= None)\n",
        "model = svm.fit(x_train, y_train)\n",
        "test_performance = model.score(x_test, y_test)\n",
        "print ('Cross-validation accuracy: %0.3f,'' test accuracy: %0.3f' % (np.mean(cv_performance),test_performance))"
      ],
      "execution_count": null,
      "outputs": [
        {
          "output_type": "stream",
          "text": [
            "Cross-validation accuracy: 0.925, test accuracy: 0.929\n"
          ],
          "name": "stdout"
        }
      ]
    },
    {
      "cell_type": "code",
      "metadata": {
        "id": "mknNJ_nCUVbc",
        "colab": {
          "base_uri": "https://localhost:8080/",
          "height": 51
        },
        "outputId": "475f64b9-fd86-43e1-b0c2-f3f5135fa6ca"
      },
      "source": [
        "k1 = SVC(kernel='linear', random_state=None)\n",
        "search_space = [{'kernel': ['rbf'],'C': [1, 10, 100, 1000],'gamma': [1e-3, 1e-2, 1, 10]}]\n",
        "#{'kernel': ['linear'], 'C': [1, 10, 100, 1000]}, \n",
        "gs = GridSearchCV(k1,param_grid=search_space, refit=True, cv=None)\n",
        "gs.fit(x_train,y_train)\n",
        "print ('Best parameter: %s'% str(gs.best_params_))\n",
        "cv_performance = gs.best_score_\n",
        "test_performance = gs.score(x_test, y_test)\n",
        "print ('Cross-validation accuracy: %0.3f,'' test accuracy: %0.3f'% (cv_performance,test_performance))"
      ],
      "execution_count": null,
      "outputs": [
        {
          "output_type": "stream",
          "text": [
            "Best parameter: {'C': 10, 'gamma': 0.01, 'kernel': 'rbf'}\n",
            "Cross-validation accuracy: 0.923, test accuracy: 0.934\n"
          ],
          "name": "stdout"
        }
      ]
    },
    {
      "cell_type": "code",
      "metadata": {
        "id": "KhQZdK0i9DES"
      },
      "source": [
        ""
      ],
      "execution_count": null,
      "outputs": []
    }
  ]
}